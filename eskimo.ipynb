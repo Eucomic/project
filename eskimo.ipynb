{
  "nbformat": 4,
  "nbformat_minor": 0,
  "metadata": {
    "colab": {
      "provenance": [],
      "authorship_tag": "ABX9TyOmQIa7qS/8AZQbvMjlkFpr",
      "include_colab_link": true
    },
    "kernelspec": {
      "name": "python3",
      "display_name": "Python 3"
    },
    "language_info": {
      "name": "python"
    }
  },
  "cells": [
    {
      "cell_type": "markdown",
      "metadata": {
        "id": "view-in-github",
        "colab_type": "text"
      },
      "source": [
        "<a href=\"https://colab.research.google.com/github/Eucomic/project/blob/main/eskimo.ipynb\" target=\"_parent\"><img src=\"https://colab.research.google.com/assets/colab-badge.svg\" alt=\"Open In Colab\"/></a>"
      ]
    },
    {
      "cell_type": "markdown",
      "source": [
        "# 1. Game 클래스와 이동방향\n",
        "기본적인 게임을 실행하기 위해 방향을 정의하고, 보드에서 방향에 따른 이동과, 그 이동이 성립하는지 여부를 확인하는 함수를 설정하였습니다."
      ],
      "metadata": {
        "id": "4pRHCWMAUP3V"
      }
    },
    {
      "cell_type": "code",
      "execution_count": null,
      "metadata": {
        "id": "T6v1UO6GSOVo"
      },
      "outputs": [],
      "source": [
        "class Game:\n",
        "    dir_map = {\n",
        "        'U':  (-1,  0), 'D': (1,  0),\n",
        "        'R':  (0,  1), 'L': (0, -1),\n",
        "        'UR': (-1,  1), 'DR': (1,  1),\n",
        "        'UL': (-1, -1), 'DL': (1, -1),\n",
        "    }\n",
        "\n",
        "    def __init__(self):\n",
        "        self.board = [[0]*5 for _ in range(5)]\n",
        "        for c in range(5):\n",
        "            self.board[0][c] = 1\n",
        "            self.board[4][c] = 2\n",
        "        self.board[2][2] = 3\n",
        "        self.bear_cooldown = 0\n",
        "\n",
        "    def valid_player_move(self, player, sr, sc, dir_str):\n",
        "        # 1) 입력한 위치의 말이 자신의 말인지를 확인합니다.\n",
        "        if not (0 <= sr < 5 and 0 <= sc < 5): return None\n",
        "        if self.board[sr][sc] != player:         return None\n",
        "        # 2) 입력된 알파벳이 유효한 방향을 입력한 것인지 확인합니다.\n",
        "        if dir_str not in self.dir_map:          return False\n",
        "        dr, dc = self.dir_map[dir_str]\n",
        "        # 3) 한 칸 전진이 가능한지? 이는 최소 한 칸의 이동 공간이 있어야 이동 가능하도록 설정하기 위해 추가하였습니다.\n",
        "        nr, nc = sr+dr, sc+dc\n",
        "        if not (0 <= nr < 5 and 0 <= nc < 5):    return False\n",
        "        if self.board[nr][nc] != 0:              return False\n",
        "        # 4) 기본적으로 이동의 방식이 해당 방향으로 끝까지 이동하기 때문에 이동 가능할 때 까지 이동하도록 하였습니다.\n",
        "        r, c = nr, nc\n",
        "        while True:\n",
        "            nr, nc = r+dr, c+dc\n",
        "            if not (0 <= nr < 5 and 0 <= nc < 5): break\n",
        "            if self.board[nr][nc] != 0:          break\n",
        "            r, c = nr, nc\n",
        "        return (r, c)\n",
        "\n",
        "    def valid_bear_move(self, sr, sc, dir_str):\n",
        "        # 1) 쿨다운 확인\n",
        "        if self.bear_cooldown > 0:    return None\n",
        "        # 2) 출발지에 곰이 아니면 None\n",
        "        if not (0 <= sr < 5 and 0 <= sc < 5): return None\n",
        "        if self.board[sr][sc] != 3:          return None\n",
        "        # 3) 방향 검사 & 한 칸 이동\n",
        "        if dir_str not in self.dir_map:      return False\n",
        "        dr, dc = self.dir_map[dir_str]\n",
        "        tr, tc = sr+dr, sc+dc\n",
        "        if not (0 <= tr < 5 and 0 <= tc < 5): return False\n",
        "        if self.board[tr][tc] != 0:          return False\n",
        "        return (tr, tc)\n",
        "\n",
        "    def is_bear_trapped(self):\n",
        "        for r in range(5):\n",
        "            for c in range(5):\n",
        "                if self.board[r][c] == 3:\n",
        "                    bear_r, bear_c = r, c\n",
        "        for dr, dc in [(-1,0),(1,0),(0,-1),(0,1)]:\n",
        "            nr, nc = bear_r+dr, bear_c+dc\n",
        "            if 0 <= nr < 5 and 0 <= nc < 5 and self.board[nr][nc] == 0:\n",
        "                return False\n",
        "        return True\n"
      ]
    },
    {
      "cell_type": "markdown",
      "source": [
        "# 2. 보드 제작\n",
        "행과 열의 번호를 포함한 전체적인 보드의 구성을 제작하였습니다. 처음에 격자가 존재하지 않는 상태로 진행하려다가, 조금 더 직관적인 구성을 위해 행과 열의 번호를 포함하고 격자가 들어가도록 형태를 변경했습니다."
      ],
      "metadata": {
        "id": "tHq9wD9pWnEt"
      }
    },
    {
      "cell_type": "code",
      "source": [
        "def print_board(bd):\n",
        "    symbol = {0:'.', 1:'1', 2:'2', 3:'B'}\n",
        "    size = len(bd)\n",
        "    header = '   ' + '   '.join(str(i+1) for i in range(size))\n",
        "    print(header)\n",
        "    print('  +' + '---+' * size)\n",
        "    for i, row in enumerate(bd):\n",
        "        print(f\"{i+1} | \" + ' | '.join(symbol[v] for v in row) + ' |')\n",
        "        print('  +' + '---+' * size)\n"
      ],
      "metadata": {
        "id": "oXhgU_enWrpr"
      },
      "execution_count": null,
      "outputs": []
    },
    {
      "cell_type": "markdown",
      "source": [
        "# 3. 게임 실행\n",
        "게임을 실행하기 위한 함수입니다. 최종적인 북극곰을 가두는 형태가 완성될 때 까지, 반복하여 번갈아가며 두 플레이어의 행동을 입력받습니다."
      ],
      "metadata": {
        "id": "CwZtNQ0YW3An"
      }
    },
    {
      "cell_type": "code",
      "source": [
        "def play_game():\n",
        "    game = Game()\n",
        "    current = 1\n",
        "    while True:\n",
        "        print_board(game.board)\n",
        "\n",
        "        raw = input(f\"[P{current}] 이동 (예: '2 3 U' or 'bear 3 3 DR'): \")\n",
        "        cmd = raw.strip().split()\n",
        "\n",
        "        if not cmd:\n",
        "            print(\"⚠️ 입력이 없습니다.\")\n",
        "            continue\n",
        "\n",
        "        if cmd[0].lower() == 'bear':\n",
        "            if len(cmd) < 4:\n",
        "                print(\"⚠️ 포맷: bear row col DIR\")\n",
        "                continue\n",
        "            sr, sc = int(cmd[1])-1, int(cmd[2])-1\n",
        "            dir_str = cmd[3].upper()\n",
        "            res = game.valid_bear_move(sr, sc, dir_str)\n",
        "            if res is None:\n",
        "                print(\"❌ 잘못된 곰 선택 또는 쿨다운 중\")\n",
        "                continue\n",
        "            if res is False:\n",
        "                print(\"❌ 곰은 그 방향으로 이동할 수 없습니다.\")\n",
        "                continue\n",
        "            tr, tc = res\n",
        "            game.board[sr][sc], game.board[tr][tc] = 0, 3\n",
        "            game.bear_cooldown = 4\n",
        "\n",
        "        else:\n",
        "            if len(cmd) < 3:\n",
        "                print(\"⚠️ 포맷: row col DIR\")\n",
        "                continue\n",
        "            sr, sc = int(cmd[0])-1, int(cmd[1])-1\n",
        "            dir_str = cmd[2].upper()\n",
        "            res = game.valid_player_move(current, sr, sc, dir_str)\n",
        "            if res is None:\n",
        "                print(\"❌ 내 말이 아닙니다.\")\n",
        "                continue\n",
        "            if res is False:\n",
        "                print(\"❌ 그 방향으로 이동할 수 없습니다.\")\n",
        "                continue\n",
        "            tr, tc = res\n",
        "            game.board[sr][sc], game.board[tr][tc] = 0, current\n",
        "\n",
        "        # 곰 쿨다운 감소\n",
        "        game.bear_cooldown = max(0, game.bear_cooldown - 1)\n",
        "        if game.is_bear_trapped():\n",
        "            print_board(game.board)\n",
        "            print(f\"P{current} 승리 — 북극곰 포위!\")\n",
        "            break\n",
        "        current = 3 - current\n",
        "\n",
        "# 한 번에 실행\n",
        "if __name__ == \"__main__\":\n",
        "    play_game()\n"
      ],
      "metadata": {
        "id": "Z-iMI3bBW6dn"
      },
      "execution_count": null,
      "outputs": []
    }
  ]
}