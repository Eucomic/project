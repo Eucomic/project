{
  "nbformat": 4,
  "nbformat_minor": 0,
  "metadata": {
    "colab": {
      "provenance": [],
      "authorship_tag": "ABX9TyPhguc051D0bV1ih2aXkjBL",
      "include_colab_link": true
    },
    "kernelspec": {
      "name": "python3",
      "display_name": "Python 3"
    },
    "language_info": {
      "name": "python"
    }
  },
  "cells": [
    {
      "cell_type": "markdown",
      "metadata": {
        "id": "view-in-github",
        "colab_type": "text"
      },
      "source": [
        "<a href=\"https://colab.research.google.com/github/Eucomic/project/blob/main/eskimo.ipynb\" target=\"_parent\"><img src=\"https://colab.research.google.com/assets/colab-badge.svg\" alt=\"Open In Colab\"/></a>"
      ]
    },
    {
      "cell_type": "markdown",
      "source": [
        "# 1. Game 클래스와 이동방향\n",
        "기본적인 게임을 실행하기 위해 방향을 정의하고, 보드에서 방향에 따른 이동과, 그 이동이 성립하는지 여부를 확인하는 함수를 설정하였습니다."
      ],
      "metadata": {
        "id": "4pRHCWMAUP3V"
      }
    },
    {
      "cell_type": "code",
      "execution_count": 10,
      "metadata": {
        "id": "T6v1UO6GSOVo"
      },
      "outputs": [],
      "source": [
        "class Game:\n",
        "    dir_map = {\n",
        "        'U':  (-1,  0), 'D': (1,  0),\n",
        "        'R':  (0,  1), 'L': (0, -1),\n",
        "        'UR': (-1,  1), 'DR': (1,  1),\n",
        "        'UL': (-1, -1), 'DL': (1, -1),\n",
        "    }\n",
        "\n",
        "    def __init__(self):\n",
        "        self.board = [[0]*5 for _ in range(5)]\n",
        "        for c in range(5):\n",
        "            self.board[0][c] = 1\n",
        "            self.board[4][c] = 2\n",
        "        self.board[2][2] = 3\n",
        "        self.bear_cooldown = 0\n",
        "\n",
        "    def valid_player_move(self, player, sr, sc, dir_str):\n",
        "        # 1) 입력된 위치의 말이 자신의 말인지를 확인합니다.\n",
        "        if not (0 <= sr < 5 and 0 <= sc < 5): return None\n",
        "        if self.board[sr][sc] != player:         return None\n",
        "        # 2) 입력된 알파벳이 유효한 방향을 입력한 것인지 확인합니다.\n",
        "        if dir_str not in self.dir_map:          return False\n",
        "        dr, dc = self.dir_map[dir_str]\n",
        "        # 3) 해당 방향의 한 칸 앞이 비어있는지 확인합니다. 비어있지 않은 경우, 이동이 불가능하도록 하였습니다.\n",
        "        nr, nc = sr+dr, sc+dc\n",
        "        if not (0 <= nr < 5 and 0 <= nc < 5):    return False\n",
        "        if self.board[nr][nc] != 0:              return False\n",
        "        # 4) 해당 방향으로 이동 가능할 때 까지 이동합니다.\n",
        "        r, c = nr, nc\n",
        "        while True:\n",
        "            nr, nc = r+dr, c+dc\n",
        "            if not (0 <= nr < 5 and 0 <= nc < 5): break\n",
        "            if self.board[nr][nc] != 0:          break\n",
        "            r, c = nr, nc\n",
        "        return (r, c)\n",
        "\n",
        "    def valid_bear_move(self, sr, sc, dir_str):\n",
        "        # 1) 쿨다운 값이 0인지 확인합니다.\n",
        "        if self.bear_cooldown > 0:    return None\n",
        "        # 2) 입력된 위치에 북극곰 말이 있는지 확인합니다.\n",
        "        if not (0 <= sr < 5 and 0 <= sc < 5): return None\n",
        "        if self.board[sr][sc] != 3:          return None\n",
        "        # 3) 입력된 알파벳이 유효한 방향을 입력한 것인지 확인합니다.\n",
        "        if dir_str not in self.dir_map:      return False\n",
        "        # 4) 한 칸 앞(도착지점)이 비어있는지 확인합니다.\n",
        "        dr, dc = self.dir_map[dir_str]\n",
        "        tr, tc = sr+dr, sc+dc\n",
        "        if not (0 <= tr < 5 and 0 <= tc < 5): return False\n",
        "        if self.board[tr][tc] != 0:          return False\n",
        "        # 5) 도착지점으로 말을 이동시킵니다.\n",
        "        return (tr, tc)\n",
        "\n",
        "    def is_bear_trapped(self):\n",
        "        # 1) 북극곰 말의 위치를 파악합니다.\n",
        "        for r in range(5):\n",
        "            for c in range(5):\n",
        "                if self.board[r][c] == 3:\n",
        "                    bear_r, bear_c = r, c\n",
        "        # 2) 북극곰의 상/하/좌/우에 위치한 칸이 빈칸인지를 확인합니다.\n",
        "        for dr, dc in [(-1,0),(1,0),(0,-1),(0,1)]:\n",
        "            nr, nc = bear_r+dr, bear_c+dc\n",
        "            if 0 <= nr < 5 and 0 <= nc < 5 and self.board[nr][nc] == 0:\n",
        "                return False\n",
        "        return True\n"
      ]
    },
    {
      "cell_type": "markdown",
      "source": [
        "# 2. 보드 제작\n",
        "행과 열의 번호를 포함한 전체적인 보드의 구성을 제작하였습니다. 처음에 격자가 존재하지 않는 상태(ver1)로 진행하려다가, 조금 더 직관적인 구성을 위해 행과 열의 번호를 포함하고 격자가 들어가도록 형태를 변경했습니다.(ver2)\n"
      ],
      "metadata": {
        "id": "tHq9wD9pWnEt"
      }
    },
    {
      "cell_type": "code",
      "source": [
        "# ver 1\n",
        "\n",
        "# def print_board(bd):\n",
        "#     # 0: . , 1: X (P1), 2: O (P2), 3: B (Bear)\n",
        "#     symbol = {0:'.', 1:'X', 2:'O', 3:'B'}\n",
        "#     for row in bd:\n",
        "#         print(' '.join(symbol[v] for v in row))\n",
        "#     print()  # 한 줄 띄우기\n",
        "\n",
        "# ver 2\n",
        "\n",
        "def print_board(bd):\n",
        "    symbol = {0:'.', 1:'1', 2:'2', 3:'B'}\n",
        "    size = len(bd)\n",
        "    header = '   ' + '   '.join(str(i+1) for i in range(size))\n",
        "    print(header)\n",
        "    print('  +' + '---+' * size)\n",
        "    for i, row in enumerate(bd):\n",
        "        print(f\"{i+1} | \" + ' | '.join(symbol[v] for v in row) + ' |')\n",
        "        print('  +' + '---+' * size)\n"
      ],
      "metadata": {
        "id": "oXhgU_enWrpr"
      },
      "execution_count": 11,
      "outputs": []
    },
    {
      "cell_type": "markdown",
      "source": [
        "# 3. 게임 실행\n",
        "게임을 실행하기 위한 함수입니다. 최종적인 북극곰을 가두는 형태가 완성될 때 까지, 반복하여 번갈아가며 두 플레이어의 행동을 입력받습니다."
      ],
      "metadata": {
        "id": "CwZtNQ0YW3An"
      }
    },
    {
      "cell_type": "code",
      "source": [
        "def play_game():\n",
        "    game = Game()\n",
        "    current = 1\n",
        "    while True:\n",
        "        print_board(game.board)\n",
        "        # 이동을 입력받습니다.\n",
        "        raw = input(f\"[P{current}] 이동 (예: '2 3 U' or 'bear 3 3 DR'): \")\n",
        "\n",
        "        # 입력 받은 텍스트를 띄어쓰기를 기준으로 분리합니다.\n",
        "        cmd = raw.strip().split()\n",
        "\n",
        "        # 입력이 없는 경우\n",
        "        if not cmd:\n",
        "            print(\"⚠️ 입력이 없습니다.\")\n",
        "            continue\n",
        "\n",
        "        # 북극곰 이동인 경우\n",
        "        if cmd[0].lower() == 'bear':\n",
        "            # 입력 값이 부족한 경우(행/열/방향 중 하나 이상 누락)\n",
        "            if len(cmd) < 4:\n",
        "                print(\"⚠️ 포맷: bear row col DIR\")\n",
        "                continue\n",
        "            sr, sc = int(cmd[1])-1, int(cmd[2])-1\n",
        "            dir_str = cmd[3].upper()\n",
        "            res = game.valid_bear_move(sr, sc, dir_str)\n",
        "            # Cell 1 : 북극곰 이동 - 1/2번의 오류 상황\n",
        "            if res is None:\n",
        "                print(\"❌ 잘못된 곰 선택 또는 쿨다운 중\")\n",
        "                continue\n",
        "            # Cell 1 : 북극곰 이동 - 3/4의 오류 상황\n",
        "            if res is False:\n",
        "                print(\"❌ 곰은 그 방향으로 이동할 수 없습니다.\")\n",
        "                continue\n",
        "            tr, tc = res\n",
        "            # 정상 이동 후, 이동 전 칸은 빈칸, 이동 후 칸은 북극곰으로 설정, 쿨다운 초기화\n",
        "            game.board[sr][sc], game.board[tr][tc] = 0, 3\n",
        "            game.bear_cooldown = 4\n",
        "\n",
        "        else:\n",
        "            # 입력 값이 부족한 경우(행/열/방향 중 하나 이상 누락)\n",
        "            if len(cmd) < 3:\n",
        "                print(\"⚠️ 포맷: row col DIR\")\n",
        "                continue\n",
        "            sr, sc = int(cmd[0])-1, int(cmd[1])-1\n",
        "            dir_str = cmd[2].upper()\n",
        "            res = game.valid_player_move(current, sr, sc, dir_str)\n",
        "            # Cell 1 : 플레이어 말 이동 - 1번의 오류 상황\n",
        "            if res is None:\n",
        "                print(\"❌ 내 말이 아닙니다.\")\n",
        "                continue\n",
        "            # Cell 1 : 플레이어 말 이동 - 2/3번의 오류 상황\n",
        "            if res is False:\n",
        "                print(\"❌ 그 방향으로 이동할 수 없습니다.\")\n",
        "                continue\n",
        "            tr, tc = res\n",
        "            # 정상 이동 후, 이동 전 칸은 빈칸, 이동 후 칸은 현재 플레이어의 말로 설정\n",
        "            game.board[sr][sc], game.board[tr][tc] = 0, current\n",
        "\n",
        "        # 곰 쿨다운 감소\n",
        "        game.bear_cooldown = max(0, game.bear_cooldown - 1)\n",
        "        # 게임 종료 조건 확인\n",
        "        if game.is_bear_trapped():\n",
        "            print_board(game.board)\n",
        "            print(f\"P{current} 승리!\")\n",
        "            break\n",
        "        current = 3 - current\n",
        "\n",
        "# 한 번에 실행\n",
        "if __name__ == \"__main__\":\n",
        "    play_game()\n"
      ],
      "metadata": {
        "colab": {
          "base_uri": "https://localhost:8080/",
          "height": 773
        },
        "id": "Z-iMI3bBW6dn",
        "outputId": "bff88923-0fef-4de0-b3d3-a5e4e6887dd5"
      },
      "execution_count": 12,
      "outputs": [
        {
          "output_type": "stream",
          "name": "stdout",
          "text": [
            "   1   2   3   4   5\n",
            "  +---+---+---+---+---+\n",
            "1 | 1 | 1 | 1 | 1 | 1 |\n",
            "  +---+---+---+---+---+\n",
            "2 | . | . | . | . | . |\n",
            "  +---+---+---+---+---+\n",
            "3 | . | . | B | . | . |\n",
            "  +---+---+---+---+---+\n",
            "4 | . | . | . | . | . |\n",
            "  +---+---+---+---+---+\n",
            "5 | 2 | 2 | 2 | 2 | 2 |\n",
            "  +---+---+---+---+---+\n",
            "[P1] 이동 (예: '2 3 U' or 'bear 3 3 DR'): 1 3 D\n",
            "   1   2   3   4   5\n",
            "  +---+---+---+---+---+\n",
            "1 | 1 | 1 | . | 1 | 1 |\n",
            "  +---+---+---+---+---+\n",
            "2 | . | . | 1 | . | . |\n",
            "  +---+---+---+---+---+\n",
            "3 | . | . | B | . | . |\n",
            "  +---+---+---+---+---+\n",
            "4 | . | . | . | . | . |\n",
            "  +---+---+---+---+---+\n",
            "5 | 2 | 2 | 2 | 2 | 2 |\n",
            "  +---+---+---+---+---+\n"
          ]
        },
        {
          "output_type": "error",
          "ename": "KeyboardInterrupt",
          "evalue": "Interrupted by user",
          "traceback": [
            "\u001b[0;31m---------------------------------------------------------------------------\u001b[0m",
            "\u001b[0;31mKeyboardInterrupt\u001b[0m                         Traceback (most recent call last)",
            "\u001b[0;32m/tmp/ipython-input-12-3414429982.py\u001b[0m in \u001b[0;36m<cell line: 0>\u001b[0;34m()\u001b[0m\n\u001b[1;32m     68\u001b[0m \u001b[0;31m# 한 번에 실행\u001b[0m\u001b[0;34m\u001b[0m\u001b[0;34m\u001b[0m\u001b[0m\n\u001b[1;32m     69\u001b[0m \u001b[0;32mif\u001b[0m \u001b[0m__name__\u001b[0m \u001b[0;34m==\u001b[0m \u001b[0;34m\"__main__\"\u001b[0m\u001b[0;34m:\u001b[0m\u001b[0;34m\u001b[0m\u001b[0;34m\u001b[0m\u001b[0m\n\u001b[0;32m---> 70\u001b[0;31m     \u001b[0mplay_game\u001b[0m\u001b[0;34m(\u001b[0m\u001b[0;34m)\u001b[0m\u001b[0;34m\u001b[0m\u001b[0;34m\u001b[0m\u001b[0m\n\u001b[0m",
            "\u001b[0;32m/tmp/ipython-input-12-3414429982.py\u001b[0m in \u001b[0;36mplay_game\u001b[0;34m()\u001b[0m\n\u001b[1;32m      5\u001b[0m         \u001b[0mprint_board\u001b[0m\u001b[0;34m(\u001b[0m\u001b[0mgame\u001b[0m\u001b[0;34m.\u001b[0m\u001b[0mboard\u001b[0m\u001b[0;34m)\u001b[0m\u001b[0;34m\u001b[0m\u001b[0;34m\u001b[0m\u001b[0m\n\u001b[1;32m      6\u001b[0m         \u001b[0;31m# 이동을 입력받습니다.\u001b[0m\u001b[0;34m\u001b[0m\u001b[0;34m\u001b[0m\u001b[0m\n\u001b[0;32m----> 7\u001b[0;31m         \u001b[0mraw\u001b[0m \u001b[0;34m=\u001b[0m \u001b[0minput\u001b[0m\u001b[0;34m(\u001b[0m\u001b[0;34mf\"[P{current}] 이동 (예: '2 3 U' or 'bear 3 3 DR'): \"\u001b[0m\u001b[0;34m)\u001b[0m\u001b[0;34m\u001b[0m\u001b[0;34m\u001b[0m\u001b[0m\n\u001b[0m\u001b[1;32m      8\u001b[0m \u001b[0;34m\u001b[0m\u001b[0m\n\u001b[1;32m      9\u001b[0m         \u001b[0;31m# 입력 받은 텍스트를 띄어쓰기를 기준으로 분리합니다.\u001b[0m\u001b[0;34m\u001b[0m\u001b[0;34m\u001b[0m\u001b[0m\n",
            "\u001b[0;32m/usr/local/lib/python3.11/dist-packages/ipykernel/kernelbase.py\u001b[0m in \u001b[0;36mraw_input\u001b[0;34m(self, prompt)\u001b[0m\n\u001b[1;32m   1175\u001b[0m                 \u001b[0;34m\"raw_input was called, but this frontend does not support input requests.\"\u001b[0m\u001b[0;34m\u001b[0m\u001b[0;34m\u001b[0m\u001b[0m\n\u001b[1;32m   1176\u001b[0m             )\n\u001b[0;32m-> 1177\u001b[0;31m         return self._input_request(\n\u001b[0m\u001b[1;32m   1178\u001b[0m             \u001b[0mstr\u001b[0m\u001b[0;34m(\u001b[0m\u001b[0mprompt\u001b[0m\u001b[0;34m)\u001b[0m\u001b[0;34m,\u001b[0m\u001b[0;34m\u001b[0m\u001b[0;34m\u001b[0m\u001b[0m\n\u001b[1;32m   1179\u001b[0m             \u001b[0mself\u001b[0m\u001b[0;34m.\u001b[0m\u001b[0m_parent_ident\u001b[0m\u001b[0;34m[\u001b[0m\u001b[0;34m\"shell\"\u001b[0m\u001b[0;34m]\u001b[0m\u001b[0;34m,\u001b[0m\u001b[0;34m\u001b[0m\u001b[0;34m\u001b[0m\u001b[0m\n",
            "\u001b[0;32m/usr/local/lib/python3.11/dist-packages/ipykernel/kernelbase.py\u001b[0m in \u001b[0;36m_input_request\u001b[0;34m(self, prompt, ident, parent, password)\u001b[0m\n\u001b[1;32m   1217\u001b[0m             \u001b[0;32mexcept\u001b[0m \u001b[0mKeyboardInterrupt\u001b[0m\u001b[0;34m:\u001b[0m\u001b[0;34m\u001b[0m\u001b[0;34m\u001b[0m\u001b[0m\n\u001b[1;32m   1218\u001b[0m                 \u001b[0;31m# re-raise KeyboardInterrupt, to truncate traceback\u001b[0m\u001b[0;34m\u001b[0m\u001b[0;34m\u001b[0m\u001b[0m\n\u001b[0;32m-> 1219\u001b[0;31m                 \u001b[0;32mraise\u001b[0m \u001b[0mKeyboardInterrupt\u001b[0m\u001b[0;34m(\u001b[0m\u001b[0;34m\"Interrupted by user\"\u001b[0m\u001b[0;34m)\u001b[0m \u001b[0;32mfrom\u001b[0m \u001b[0;32mNone\u001b[0m\u001b[0;34m\u001b[0m\u001b[0;34m\u001b[0m\u001b[0m\n\u001b[0m\u001b[1;32m   1220\u001b[0m             \u001b[0;32mexcept\u001b[0m \u001b[0mException\u001b[0m\u001b[0;34m:\u001b[0m\u001b[0;34m\u001b[0m\u001b[0;34m\u001b[0m\u001b[0m\n\u001b[1;32m   1221\u001b[0m                 \u001b[0mself\u001b[0m\u001b[0;34m.\u001b[0m\u001b[0mlog\u001b[0m\u001b[0;34m.\u001b[0m\u001b[0mwarning\u001b[0m\u001b[0;34m(\u001b[0m\u001b[0;34m\"Invalid Message:\"\u001b[0m\u001b[0;34m,\u001b[0m \u001b[0mexc_info\u001b[0m\u001b[0;34m=\u001b[0m\u001b[0;32mTrue\u001b[0m\u001b[0;34m)\u001b[0m\u001b[0;34m\u001b[0m\u001b[0;34m\u001b[0m\u001b[0m\n",
            "\u001b[0;31mKeyboardInterrupt\u001b[0m: Interrupted by user"
          ]
        }
      ]
    }
  ]
}